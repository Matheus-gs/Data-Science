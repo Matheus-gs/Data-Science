{
 "cells": [
  {
   "cell_type": "markdown",
   "id": "bf5df6d4",
   "metadata": {},
   "source": [
    "# Extraindo dados (Ações Da Apple)"
   ]
  },
  {
   "cell_type": "code",
   "execution_count": 4,
   "id": "893a55d2",
   "metadata": {},
   "outputs": [
    {
     "data": {
      "text/html": [
       "<div>\n",
       "<style scoped>\n",
       "    .dataframe tbody tr th:only-of-type {\n",
       "        vertical-align: middle;\n",
       "    }\n",
       "\n",
       "    .dataframe tbody tr th {\n",
       "        vertical-align: top;\n",
       "    }\n",
       "\n",
       "    .dataframe thead th {\n",
       "        text-align: right;\n",
       "    }\n",
       "</style>\n",
       "<table border=\"1\" class=\"dataframe\">\n",
       "  <thead>\n",
       "    <tr style=\"text-align: right;\">\n",
       "      <th></th>\n",
       "      <th>Date</th>\n",
       "      <th>Open</th>\n",
       "      <th>High</th>\n",
       "      <th>Low</th>\n",
       "      <th>Close</th>\n",
       "      <th>Adj Close</th>\n",
       "      <th>Volume</th>\n",
       "    </tr>\n",
       "  </thead>\n",
       "  <tbody>\n",
       "    <tr>\n",
       "      <th>0</th>\n",
       "      <td>1980-12-12</td>\n",
       "      <td>0.128348</td>\n",
       "      <td>0.128906</td>\n",
       "      <td>0.128348</td>\n",
       "      <td>0.128348</td>\n",
       "      <td>0.100600</td>\n",
       "      <td>469033600</td>\n",
       "    </tr>\n",
       "    <tr>\n",
       "      <th>1</th>\n",
       "      <td>1980-12-15</td>\n",
       "      <td>0.122210</td>\n",
       "      <td>0.122210</td>\n",
       "      <td>0.121652</td>\n",
       "      <td>0.121652</td>\n",
       "      <td>0.095352</td>\n",
       "      <td>175884800</td>\n",
       "    </tr>\n",
       "    <tr>\n",
       "      <th>2</th>\n",
       "      <td>1980-12-16</td>\n",
       "      <td>0.113281</td>\n",
       "      <td>0.113281</td>\n",
       "      <td>0.112723</td>\n",
       "      <td>0.112723</td>\n",
       "      <td>0.088353</td>\n",
       "      <td>105728000</td>\n",
       "    </tr>\n",
       "    <tr>\n",
       "      <th>3</th>\n",
       "      <td>1980-12-17</td>\n",
       "      <td>0.115513</td>\n",
       "      <td>0.116071</td>\n",
       "      <td>0.115513</td>\n",
       "      <td>0.115513</td>\n",
       "      <td>0.090540</td>\n",
       "      <td>86441600</td>\n",
       "    </tr>\n",
       "    <tr>\n",
       "      <th>4</th>\n",
       "      <td>1980-12-18</td>\n",
       "      <td>0.118862</td>\n",
       "      <td>0.119420</td>\n",
       "      <td>0.118862</td>\n",
       "      <td>0.118862</td>\n",
       "      <td>0.093165</td>\n",
       "      <td>73449600</td>\n",
       "    </tr>\n",
       "  </tbody>\n",
       "</table>\n",
       "</div>"
      ],
      "text/plain": [
       "         Date      Open      High       Low     Close  Adj Close     Volume\n",
       "0  1980-12-12  0.128348  0.128906  0.128348  0.128348   0.100600  469033600\n",
       "1  1980-12-15  0.122210  0.122210  0.121652  0.121652   0.095352  175884800\n",
       "2  1980-12-16  0.113281  0.113281  0.112723  0.112723   0.088353  105728000\n",
       "3  1980-12-17  0.115513  0.116071  0.115513  0.115513   0.090540   86441600\n",
       "4  1980-12-18  0.118862  0.119420  0.118862  0.118862   0.093165   73449600"
      ]
     },
     "execution_count": 4,
     "metadata": {},
     "output_type": "execute_result"
    }
   ],
   "source": [
    "import pandas as pd;\n",
    "import matplotlib.pyplot as plt;\n",
    "\n",
    "uri = \"./Apple.csv\"\n",
    "AppleStockData = pd.read_csv(uri)\n",
    "\n",
    "\n",
    "AppleStockData.head()\n",
    "\n",
    "\n",
    "\n"
   ]
  },
  {
   "cell_type": "markdown",
   "id": "84373e42",
   "metadata": {},
   "source": [
    "# Preços de abertura AAPL"
   ]
  },
  {
   "cell_type": "code",
   "execution_count": 5,
   "id": "30748813",
   "metadata": {},
   "outputs": [
    {
     "name": "stdout",
     "output_type": "stream",
     "text": [
      "Preços de abertura: \n"
     ]
    },
    {
     "data": {
      "text/plain": [
       "0          0.128348\n",
       "1          0.122210\n",
       "2          0.113281\n",
       "3          0.115513\n",
       "4          0.118862\n",
       "            ...    \n",
       "10278    148.820007\n",
       "10279    143.800003\n",
       "10280    143.929993\n",
       "10281    144.449997\n",
       "10282    146.649994\n",
       "Name: Open, Length: 10283, dtype: float64"
      ]
     },
     "execution_count": 5,
     "metadata": {},
     "output_type": "execute_result"
    }
   ],
   "source": [
    "AppleStockOpen = AppleStockData['Open']\n",
    "print('Preços de abertura: ')\n",
    "AppleStockOpen"
   ]
  },
  {
   "cell_type": "code",
   "execution_count": 6,
   "id": "2c4b069e",
   "metadata": {},
   "outputs": [
    {
     "data": {
      "text/plain": [
       "<AxesSubplot:>"
      ]
     },
     "execution_count": 6,
     "metadata": {},
     "output_type": "execute_result"
    },
    {
     "data": {
      "image/png": "[encoded data removed]",
      "text/plain": [
       "<Figure size 432x288 with 1 Axes>"
      ]
     },
     "metadata": {
      "needs_background": "light"
     },
     "output_type": "display_data"
    }
   ],
   "source": [
    "AppleStockOpen.plot()"
   ]
  },
  {
   "cell_type": "markdown",
   "id": "eab363d6",
   "metadata": {},
   "source": [
    "# Preços de fechamento AAPL"
   ]
  },
  {
   "cell_type": "code",
   "execution_count": 7,
   "id": "e487dca9",
   "metadata": {},
   "outputs": [
    {
     "name": "stdout",
     "output_type": "stream",
     "text": [
      "Preços de fechamento: \n"
     ]
    },
    {
     "data": {
      "text/plain": [
       "0          0.128348\n",
       "1          0.121652\n",
       "2          0.112723\n",
       "3          0.115513\n",
       "4          0.118862\n",
       "            ...    \n",
       "10278    146.059998\n",
       "10279    142.940002\n",
       "10280    143.429993\n",
       "10281    145.850006\n",
       "10282    146.830002\n",
       "Name: Close, Length: 10283, dtype: float64"
      ]
     },
     "execution_count": 7,
     "metadata": {},
     "output_type": "execute_result"
    }
   ],
   "source": [
    "AppleStockClose = AppleStockData['Close']\n",
    "print('Preços de fechamento: ')\n",
    "AppleStockClose"
   ]
  },
  {
   "cell_type": "code",
   "execution_count": 8,
   "id": "e07096c4",
   "metadata": {},
   "outputs": [
    {
     "data": {
      "image/png": "[encoded data removed]",
      "text/plain": [
       "<Figure size 720x360 with 1 Axes>"
      ]
     },
     "metadata": {
      "needs_background": "light"
     },
     "output_type": "display_data"
    }
   ],
   "source": [
    "\n",
    "fig, ax = plt.subplots()\n",
    "ax.plot(AppleStockClose)\n",
    "ax.set_xlabel('Dia desde o IPO')\n",
    "ax.set_ylabel('Preços')\n",
    "ax.set_title('Cotações Apple')\n",
    "plt.gcf().set_size_inches(10, 5)\n",
    "\n"
   ]
  },
  {
   "cell_type": "markdown",
   "id": "ba8b579f",
   "metadata": {},
   "source": [
    "# Máximas"
   ]
  },
  {
   "cell_type": "code",
   "execution_count": 9,
   "id": "503ba693",
   "metadata": {},
   "outputs": [
    {
     "name": "stdout",
     "output_type": "stream",
     "text": [
      "Máximas: \n"
     ]
    },
    {
     "data": {
      "text/plain": [
       "0          0.128906\n",
       "1          0.122210\n",
       "2          0.113281\n",
       "3          0.116071\n",
       "4          0.119420\n",
       "            ...    \n",
       "10278    148.820007\n",
       "10279    144.839996\n",
       "10280    144.600006\n",
       "10281    146.429993\n",
       "10282    147.080002\n",
       "Name: High, Length: 10283, dtype: float64"
      ]
     },
     "execution_count": 9,
     "metadata": {},
     "output_type": "execute_result"
    }
   ],
   "source": [
    "AppleStockHigh = AppleStockData['High']\n",
    "print('Máximas: ')\n",
    "AppleStockHigh\n"
   ]
  },
  {
   "cell_type": "markdown",
   "id": "0f611d0c",
   "metadata": {},
   "source": [
    "# Mínimas"
   ]
  },
  {
   "cell_type": "code",
   "execution_count": 10,
   "id": "b631ac0d",
   "metadata": {},
   "outputs": [
    {
     "name": "stdout",
     "output_type": "stream",
     "text": [
      "Mínimas: \n"
     ]
    },
    {
     "data": {
      "text/plain": [
       "0          0.128348\n",
       "1          0.121652\n",
       "2          0.112723\n",
       "3          0.115513\n",
       "4          0.118862\n",
       "            ...    \n",
       "10278    145.759995\n",
       "10279    141.270004\n",
       "10280    142.779999\n",
       "10281    143.699997\n",
       "10282    145.639999\n",
       "Name: Low, Length: 10283, dtype: float64"
      ]
     },
     "execution_count": 10,
     "metadata": {},
     "output_type": "execute_result"
    }
   ],
   "source": [
    "AppleStockLow = AppleStockData['Low']\n",
    "print('Mínimas: ')\n",
    "AppleStockLow"
   ]
  },
  {
   "cell_type": "markdown",
   "id": "84a8aea8",
   "metadata": {},
   "source": [
    "# Fechamento acima de 150"
   ]
  },
  {
   "cell_type": "code",
   "execution_count": 14,
   "id": "8051e11f",
   "metadata": {},
   "outputs": [
    {
     "name": "stdout",
     "output_type": "stream",
     "text": [
      "Preços de fechamento acima de 150: \n"
     ]
    },
    {
     "data": {
      "text/html": [
       "<div>\n",
       "<style scoped>\n",
       "    .dataframe tbody tr th:only-of-type {\n",
       "        vertical-align: middle;\n",
       "    }\n",
       "\n",
       "    .dataframe tbody tr th {\n",
       "        vertical-align: top;\n",
       "    }\n",
       "\n",
       "    .dataframe thead th {\n",
       "        text-align: right;\n",
       "    }\n",
       "</style>\n",
       "<table border=\"1\" class=\"dataframe\">\n",
       "  <thead>\n",
       "    <tr style=\"text-align: right;\">\n",
       "      <th></th>\n",
       "      <th>Date</th>\n",
       "      <th>Close</th>\n",
       "    </tr>\n",
       "  </thead>\n",
       "  <tbody>\n",
       "    <tr>\n",
       "      <th>10255</th>\n",
       "      <td>2021-08-16</td>\n",
       "      <td>151.119995</td>\n",
       "    </tr>\n",
       "    <tr>\n",
       "      <th>10256</th>\n",
       "      <td>2021-08-17</td>\n",
       "      <td>150.190002</td>\n",
       "    </tr>\n",
       "    <tr>\n",
       "      <th>10265</th>\n",
       "      <td>2021-08-30</td>\n",
       "      <td>153.119995</td>\n",
       "    </tr>\n",
       "    <tr>\n",
       "      <th>10266</th>\n",
       "      <td>2021-08-31</td>\n",
       "      <td>151.830002</td>\n",
       "    </tr>\n",
       "    <tr>\n",
       "      <th>10267</th>\n",
       "      <td>2021-09-01</td>\n",
       "      <td>152.509995</td>\n",
       "    </tr>\n",
       "    <tr>\n",
       "      <th>10268</th>\n",
       "      <td>2021-09-02</td>\n",
       "      <td>153.649994</td>\n",
       "    </tr>\n",
       "    <tr>\n",
       "      <th>10269</th>\n",
       "      <td>2021-09-03</td>\n",
       "      <td>154.300003</td>\n",
       "    </tr>\n",
       "    <tr>\n",
       "      <th>10270</th>\n",
       "      <td>2021-09-07</td>\n",
       "      <td>156.690002</td>\n",
       "    </tr>\n",
       "    <tr>\n",
       "      <th>10271</th>\n",
       "      <td>2021-09-08</td>\n",
       "      <td>155.110001</td>\n",
       "    </tr>\n",
       "    <tr>\n",
       "      <th>10272</th>\n",
       "      <td>2021-09-09</td>\n",
       "      <td>154.070007</td>\n",
       "    </tr>\n",
       "  </tbody>\n",
       "</table>\n",
       "</div>"
      ],
      "text/plain": [
       "             Date       Close\n",
       "10255  2021-08-16  151.119995\n",
       "10256  2021-08-17  150.190002\n",
       "10265  2021-08-30  153.119995\n",
       "10266  2021-08-31  151.830002\n",
       "10267  2021-09-01  152.509995\n",
       "10268  2021-09-02  153.649994\n",
       "10269  2021-09-03  154.300003\n",
       "10270  2021-09-07  156.690002\n",
       "10271  2021-09-08  155.110001\n",
       "10272  2021-09-09  154.070007"
      ]
     },
     "execution_count": 14,
     "metadata": {},
     "output_type": "execute_result"
    }
   ],
   "source": [
    "AppleCloseAbove50 = AppleStockData[AppleStockData['Close'] > 150]\n",
    "print('Preços de fechamento acima de 150: ')\n",
    "AppleCloseAbove50[['Date','Close']]"
   ]
  }
 ],
 "metadata": {
  "kernelspec": {
   "display_name": "Python 3 (ipykernel)",
   "language": "python",
   "name": "python3"
  },
  "language_info": {
   "codemirror_mode": {
    "name": "ipython",
    "version": 3
   },
   "file_extension": ".py",
   "mimetype": "text/x-python",
   "name": "python",
   "nbconvert_exporter": "python",
   "pygments_lexer": "ipython3",
   "version": "3.9.7"
  }
 },
 "nbformat": 4,
 "nbformat_minor": 5
}
